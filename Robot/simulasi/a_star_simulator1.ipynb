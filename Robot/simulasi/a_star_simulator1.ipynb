{
 "cells": [
  {
   "cell_type": "code",
   "execution_count": 1,
   "id": "19c2e6ff-b1a8-4969-ac94-986b851e0594",
   "metadata": {},
   "outputs": [
    {
     "name": "stdout",
     "output_type": "stream",
     "text": [
      "Requirement already satisfied: pygame in c:\\users\\umaru\\anaconda3\\lib\\site-packages (2.6.1)\n",
      "Note: you may need to restart the kernel to use updated packages.\n"
     ]
    }
   ],
   "source": [
    "pip install pygame"
   ]
  },
  {
   "cell_type": "code",
   "execution_count": 2,
   "id": "7aadcd67-fedd-4200-9b42-f9ab391be5a3",
   "metadata": {},
   "outputs": [],
   "source": [
    "# =============================\n",
    "# Import Library yang Diperlukan\n",
    "# ============================="
   ]
  },
  {
   "cell_type": "code",
   "execution_count": 3,
   "id": "a1c53dc0-a7c3-44c1-ab8c-2b214a9cfc90",
   "metadata": {},
   "outputs": [
    {
     "name": "stdout",
     "output_type": "stream",
     "text": [
      "pygame 2.6.1 (SDL 2.28.4, Python 3.12.7)\n",
      "Hello from the pygame community. https://www.pygame.org/contribute.html\n"
     ]
    }
   ],
   "source": [
    "import csv\n",
    "import heapq\n",
    "import time\n",
    "import numpy as np\n",
    "import pygame\n",
    "import matplotlib.pyplot as plt\n",
    "from matplotlib.colors import ListedColormap"
   ]
  },
  {
   "cell_type": "code",
   "execution_count": 4,
   "id": "6184d894-486b-487e-9033-626c634bd651",
   "metadata": {},
   "outputs": [],
   "source": [
    "# =============================\n",
    "# Fungsi Membaca CSV Labirin\n",
    "# ============================="
   ]
  },
  {
   "cell_type": "code",
   "execution_count": 5,
   "id": "c47ef3c3-dd34-4b50-9699-67d10320289b",
   "metadata": {},
   "outputs": [],
   "source": [
    "def get_maze(file):\n",
    "    \"\"\"\n",
    "    Membaca file CSV labirin.\n",
    "    Nilai dalam CSV:\n",
    "      0 -> ruang kosong\n",
    "      1 -> dinding\n",
    "      2 -> titik start\n",
    "      3 -> titik goal\n",
    "    \"\"\"\n",
    "    start = None\n",
    "    goal = None\n",
    "    maze = []\n",
    "    with open(file, 'r', encoding='utf-8-sig') as f:\n",
    "        reader = csv.reader(f)\n",
    "        for i, row in enumerate(reader):\n",
    "            numeric_row = []\n",
    "            for j, value in enumerate(row):\n",
    "                try:\n",
    "                    num = int(value)\n",
    "                except ValueError:\n",
    "                    continue  # Lewati nilai yang tidak bisa dikonversi\n",
    "                numeric_row.append(num)\n",
    "                if num == 2:\n",
    "                    start = (i, j)\n",
    "                elif num == 3:\n",
    "                    goal = (i, j)\n",
    "            maze.append(numeric_row)\n",
    "    # Jika tiap baris memiliki panjang berbeda, tambahkan dinding (1) untuk padding\n",
    "    max_len = max(len(r) for r in maze)\n",
    "    for row in maze:\n",
    "        if len(row) < max_len:\n",
    "            row.extend([1] * (max_len - len(row)))\n",
    "    return maze, start, goal"
   ]
  },
  {
   "cell_type": "code",
   "execution_count": 6,
   "id": "28b0006a-ca15-42a0-a304-62faf3af63b7",
   "metadata": {},
   "outputs": [],
   "source": [
    "# =============================\n",
    "# Menampilkan Labirin Secara Statik\n",
    "# ============================="
   ]
  },
  {
   "cell_type": "code",
   "execution_count": 7,
   "id": "f8da4687-89d4-404c-99d7-6ba68906f572",
   "metadata": {},
   "outputs": [],
   "source": [
    "def display_maze_static(maze, title='Labirin Asli'):\n",
    "    maze_arr = np.array(maze)\n",
    "    # Colormap:\n",
    "    # 0: putih (ruang kosong), 1: hitam (dinding), 2: hijau (start), 3: merah (goal)\n",
    "    cmap = ListedColormap(['white','black','green','red'])\n",
    "    plt.figure(figsize=(6,6))\n",
    "    plt.imshow(maze_arr, cmap=cmap, origin='upper')\n",
    "    plt.title(title)\n",
    "    plt.xticks([]), plt.yticks([])\n",
    "    plt.show()"
   ]
  },
  {
   "cell_type": "code",
   "execution_count": 8,
   "id": "55d96819-8f74-4e0a-be7d-856babd122c1",
   "metadata": {},
   "outputs": [],
   "source": [
    "# =============================\n",
    "# Implementasi A* dengan Konsep Wavefront\n",
    "# ============================="
   ]
  },
  {
   "cell_type": "code",
   "execution_count": 9,
   "id": "7ee3c596-bf00-480a-8619-e5fce06f58a3",
   "metadata": {},
   "outputs": [],
   "source": [
    "def wavefront_algorithm(maze, goal):\n",
    "    \"\"\"\n",
    "    Menyebarkan nilai wavefront mulai dari goal ke seluruh sel yang dapat diakses.\n",
    "    Sel yang bukan dinding diinisialisasi dengan -1, dan dinding dengan None.\n",
    "    \"\"\"\n",
    "    rows, cols = len(maze), len(maze[0])\n",
    "    wavefront = [[-1 if maze[i][j] != 1 else None for j in range(cols)] for i in range(rows)]\n",
    "    queue = [goal]\n",
    "    wavefront[goal[0]][goal[1]] = 0  # Goal diberi nilai 0\n",
    "    \n",
    "    while queue:\n",
    "        x, y = queue.pop(0)\n",
    "        for dx, dy in [(0,1), (1,0), (0,-1), (-1,0)]:\n",
    "            nx, ny = x + dx, y + dy\n",
    "            if 0 <= nx < rows and 0 <= ny < cols:\n",
    "                if wavefront[nx][ny] == -1 and maze[nx][ny] != 1:\n",
    "                    wavefront[nx][ny] = wavefront[x][y] + 1\n",
    "                    queue.append((nx, ny))\n",
    "    return wavefront\n",
    "\n",
    "def reconstruct_path(wavefront, start, goal):\n",
    "    \"\"\"\n",
    "    Merektruksi jalur dari start ke goal dengan memilih tetangga yang memiliki nilai wavefront terkecil.\n",
    "    \"\"\"\n",
    "    path = []\n",
    "    current = start\n",
    "    while current != goal:\n",
    "        path.append(current)\n",
    "        x, y = current\n",
    "        # Mendapatkan semua tetangga yang valid\n",
    "        neighbors = [(x+dx, y+dy) for dx, dy in [(0,1), (1,0), (0,-1), (-1,0)]]\n",
    "        neighbors = [n for n in neighbors if 0 <= n[0] < len(wavefront) and 0 <= n[1] < len(wavefront[0])\n",
    "                     and wavefront[n[0]][n[1]] is not None]\n",
    "        # Pilih tetangga dengan nilai terkecil (menuju goal)\n",
    "        current = min(neighbors, key=lambda n: wavefront[n[0]][n[1]])\n",
    "    path.append(goal)\n",
    "    return path"
   ]
  },
  {
   "cell_type": "code",
   "execution_count": 10,
   "id": "2ff33007-7d39-456e-b911-ef02505c9a6d",
   "metadata": {},
   "outputs": [],
   "source": [
    "# =============================\n",
    "# Menampilkan Labirin dengan Jalur A* Secara Statik\n",
    "# ============================="
   ]
  },
  {
   "cell_type": "code",
   "execution_count": 11,
   "id": "f7880bbe-89b5-46b7-852f-61bacac3fe18",
   "metadata": {},
   "outputs": [],
   "source": [
    "def display_maze_with_path(maze, path, title='Labirin dengan Jalur A*'):\n",
    "    maze_arr = np.array(maze)\n",
    "    maze_path = maze_arr.copy()\n",
    "    # Tandai jalur dengan nilai 4 (hanya untuk sel kosong)\n",
    "    for (i, j) in path:\n",
    "        if maze_path[i][j] == 0:\n",
    "            maze_path[i][j] = 4\n",
    "    # Colormap baru: 4 -> biru untuk jalur\n",
    "    cmap = ListedColormap(['white','black','green','red','blue'])\n",
    "    plt.figure(figsize=(6,6))\n",
    "    plt.imshow(maze_path, cmap=cmap, origin='upper')\n",
    "    plt.title(title)\n",
    "    plt.xticks([]), plt.yticks([])\n",
    "    plt.show()"
   ]
  },
  {
   "cell_type": "code",
   "execution_count": 12,
   "id": "a81c9d21-9986-4509-9662-32030d621cd7",
   "metadata": {},
   "outputs": [],
   "source": [
    "# =============================\n",
    "# Visualisasi dan Animasi Menggunakan pygame\n",
    "# ============================="
   ]
  },
  {
   "cell_type": "code",
   "execution_count": 13,
   "id": "aa6e19c3-fe35-4bc2-a13b-7ff79785fad7",
   "metadata": {},
   "outputs": [],
   "source": [
    "def draw_maze(screen, maze, cell_size, path, robot_pos=None):\n",
    "    \"\"\"\n",
    "    Menggambar labirin ke layar pygame.\n",
    "    - Ruang kosong: putih\n",
    "    - Dinding: hitam\n",
    "    - Start: hijau\n",
    "    - Goal: merah\n",
    "    - Jalur: biru\n",
    "    - Robot: kuning\n",
    "    \"\"\"\n",
    "    colors = {\n",
    "        0: (255, 255, 255),  # putih\n",
    "        1: (0, 0, 0),        # hitam\n",
    "        2: (0, 255, 0),      # hijau\n",
    "        3: (255, 0, 0),      # merah\n",
    "        4: (0, 0, 255)       # biru (untuk jalur)\n",
    "    }\n",
    "    \n",
    "    rows, cols = len(maze), len(maze[0])\n",
    "    for i in range(rows):\n",
    "        for j in range(cols):\n",
    "            rect = pygame.Rect(j * cell_size, i * cell_size, cell_size, cell_size)\n",
    "            color = colors.get(maze[i][j], (255, 255, 255))\n",
    "            pygame.draw.rect(screen, color, rect)\n",
    "            pygame.draw.rect(screen, (200, 200, 200), rect, 1)  # garis batas\n",
    "            \n",
    "    # Tandai jalur (jika ada)\n",
    "    for (i, j) in path:\n",
    "        if maze[i][j] == 0:\n",
    "            rect = pygame.Rect(j * cell_size, i * cell_size, cell_size, cell_size)\n",
    "            pygame.draw.rect(screen, colors[4], rect)\n",
    "    \n",
    "    # Tandai posisi robot (jika ada)\n",
    "    if robot_pos:\n",
    "        i, j = robot_pos\n",
    "        rect = pygame.Rect(j * cell_size, i * cell_size, cell_size, cell_size)\n",
    "        pygame.draw.rect(screen, (255, 255, 0), rect)  # kuning untuk robot\n",
    "\n",
    "def run_simulation(maze, path, cell_size=30, delay=300):\n",
    "    \"\"\"\n",
    "    Menjalankan simulasi pergerakan robot dari start ke goal menggunakan pygame.\n",
    "    delay: waktu tunda (ms) antara pergerakan.\n",
    "    \"\"\"\n",
    "    pygame.init()\n",
    "    rows, cols = len(maze), len(maze[0])\n",
    "    screen = pygame.display.set_mode((cols * cell_size, rows * cell_size))\n",
    "    pygame.display.set_caption(\"Simulasi A* dengan Wavefront (pygame)\")\n",
    "    clock = pygame.time.Clock()\n",
    "    running = True\n",
    "    step = 0  # indeks langkah pada jalur\n",
    "    \n",
    "    while running:\n",
    "        for event in pygame.event.get():\n",
    "            if event.type == pygame.QUIT:\n",
    "                running = False\n",
    "                \n",
    "        screen.fill((255, 255, 255))\n",
    "        \n",
    "        # Posisi robot saat ini (berdasarkan langkah yang telah ditempuh)\n",
    "        current_robot_pos = path[step] if step < len(path) else path[-1]\n",
    "        draw_maze(screen, maze, cell_size, path, robot_pos=current_robot_pos)\n",
    "        pygame.display.flip()\n",
    "        \n",
    "        pygame.time.wait(delay)\n",
    "        step += 1\n",
    "        if step >= len(path):\n",
    "            pygame.time.wait(1000)\n",
    "            running = False\n",
    "        \n",
    "        clock.tick(60)\n",
    "    pygame.quit()\n"
   ]
  },
  {
   "cell_type": "code",
   "execution_count": 14,
   "id": "7dd24741-9f09-4c15-8d90-53ccbafa70cd",
   "metadata": {},
   "outputs": [],
   "source": [
    "# =============================\n",
    "# Main Program\n",
    "# ============================="
   ]
  },
  {
   "cell_type": "code",
   "execution_count": 15,
   "id": "099bbbb4-31ac-47b7-bc2e-e940bd9cde66",
   "metadata": {},
   "outputs": [
    {
     "data": {
      "image/png": "[encoded data removed]",
      "text/plain": [
       "<Figure size 600x600 with 1 Axes>"
      ]
     },
     "metadata": {},
     "output_type": "display_data"
    },
    {
     "name": "stdout",
     "output_type": "stream",
     "text": [
      "Start: (1, 0), Goal: (14, 25)\n",
      "\n",
      "Jalur ditemukan:\n",
      "[(1, 0), (1, 1), (1, 2), (1, 3), (2, 3), (2, 4), (2, 5), (3, 5), (4, 5), (4, 4), (4, 3), (5, 3), (6, 3), (6, 4), (6, 5), (6, 6), (6, 7), (7, 7), (8, 7), (8, 8), (8, 9), (7, 9), (7, 10), (7, 11), (7, 12), (7, 13), (7, 14), (6, 14), (5, 14), (4, 14), (3, 14), (2, 14), (1, 14), (1, 15), (1, 16), (1, 17), (1, 18), (1, 19), (1, 20), (1, 21), (1, 22), (2, 22), (3, 22), (4, 22), (5, 22), (6, 22), (7, 22), (8, 22), (9, 22), (10, 22), (11, 22), (12, 22), (12, 23), (12, 24), (13, 24), (14, 24), (14, 25)]\n"
     ]
    },
    {
     "data": {
      "image/png": "[encoded data removed]",
      "text/plain": [
       "<Figure size 600x600 with 1 Axes>"
      ]
     },
     "metadata": {},
     "output_type": "display_data"
    }
   ],
   "source": [
    "if __name__ == '__main__':\n",
    "    # Ganti path berikut sesuai lokasi file CSV labirin Anda secara lokal.\n",
    "    csv_file = 'map 3.csv'  # Contoh: 'map_3.csv'\n",
    "    \n",
    "    # Membaca CSV labirin\n",
    "    maze, start, goal = get_maze(csv_file)\n",
    "    \n",
    "    # Tampilkan labirin asli (secara statik menggunakan matplotlib)\n",
    "    display_maze_static(maze, title='Labirin dari CSV')\n",
    "    \n",
    "    print(f\"Start: {start}, Goal: {goal}\")\n",
    "    \n",
    "    # Implementasi A* dengan konsep wavefront\n",
    "    wavefront = wavefront_algorithm(maze, goal)\n",
    "    path = reconstruct_path(wavefront, start, goal)\n",
    "    \n",
    "    print(\"\\nJalur ditemukan:\")\n",
    "    print(path)\n",
    "    \n",
    "    # Tampilkan peta labirin dengan jalur (secara statik)\n",
    "    display_maze_with_path(maze, path, title='Peta Labirin dengan Jalur A*')\n",
    "    \n",
    "    # Jalankan animasi simulasi pergerakan robot menggunakan pygame\n",
    "    run_simulation(maze, path, cell_size=30, delay=300)"
   ]
  }
 ],
 "metadata": {
  "kernelspec": {
   "display_name": "Python [conda env:base] *",
   "language": "python",
   "name": "conda-base-py"
  },
  "language_info": {
   "codemirror_mode": {
    "name": "ipython",
    "version": 3
   },
   "file_extension": ".py",
   "mimetype": "text/x-python",
   "name": "python",
   "nbconvert_exporter": "python",
   "pygments_lexer": "ipython3",
   "version": "3.12.7"
  }
 },
 "nbformat": 4,
 "nbformat_minor": 5
}
