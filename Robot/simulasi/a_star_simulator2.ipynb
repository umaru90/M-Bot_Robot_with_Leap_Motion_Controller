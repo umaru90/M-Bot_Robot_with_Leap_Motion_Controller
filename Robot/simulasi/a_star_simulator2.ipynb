{
 "cells": [
  {
   "cell_type": "code",
   "execution_count": 1,
   "id": "19c2e6ff-b1a8-4969-ac94-986b851e0594",
   "metadata": {},
   "outputs": [
    {
     "name": "stdout",
     "output_type": "stream",
     "text": [
      "Requirement already satisfied: pygame in c:\\users\\umaru\\anaconda3\\lib\\site-packages (2.6.1)\n",
      "Note: you may need to restart the kernel to use updated packages.\n"
     ]
    }
   ],
   "source": [
    "pip install pygame"
   ]
  },
  {
   "cell_type": "code",
   "execution_count": 2,
   "id": "7aadcd67-fedd-4200-9b42-f9ab391be5a3",
   "metadata": {},
   "outputs": [],
   "source": [
    "# =============================\n",
    "# Import Library yang Diperlukan\n",
    "# ============================="
   ]
  },
  {
   "cell_type": "code",
   "execution_count": 3,
   "id": "a1c53dc0-a7c3-44c1-ab8c-2b214a9cfc90",
   "metadata": {},
   "outputs": [
    {
     "name": "stdout",
     "output_type": "stream",
     "text": [
      "pygame 2.6.1 (SDL 2.28.4, Python 3.12.7)\n",
      "Hello from the pygame community. https://www.pygame.org/contribute.html\n"
     ]
    }
   ],
   "source": [
    "import csv\n",
    "import time\n",
    "import numpy as np\n",
    "import pygame\n",
    "import matplotlib.pyplot as plt\n",
    "from matplotlib.colors import ListedColormap"
   ]
  },
  {
   "cell_type": "code",
   "execution_count": 4,
   "id": "6184d894-486b-487e-9033-626c634bd651",
   "metadata": {},
   "outputs": [],
   "source": [
    "# =============================\n",
    "# Fungsi Membaca CSV Labirin\n",
    "# ============================="
   ]
  },
  {
   "cell_type": "code",
   "execution_count": 5,
   "id": "c47ef3c3-dd34-4b50-9699-67d10320289b",
   "metadata": {},
   "outputs": [],
   "source": [
    "def get_maze(file):\n",
    "    \"\"\"\n",
    "    Membaca file CSV labirin.\n",
    "    Nilai dalam CSV:\n",
    "      0 -> ruang kosong\n",
    "      1 -> dinding\n",
    "      2 -> titik start\n",
    "      3 -> titik goal\n",
    "    \"\"\"\n",
    "    start = None\n",
    "    goal = None\n",
    "    maze = []\n",
    "    with open(file, 'r', encoding='utf-8-sig') as f:\n",
    "        reader = csv.reader(f)\n",
    "        for i, row in enumerate(reader):\n",
    "            numeric_row = []\n",
    "            for j, value in enumerate(row):\n",
    "                try:\n",
    "                    num = int(value)\n",
    "                except ValueError:\n",
    "                    continue  # Lewati nilai yang tidak bisa dikonversi\n",
    "                numeric_row.append(num)\n",
    "                if num == 2:\n",
    "                    start = (i, j)\n",
    "                elif num == 3:\n",
    "                    goal = (i, j)\n",
    "            maze.append(numeric_row)\n",
    "    # Jika tiap baris memiliki panjang berbeda, tambahkan dinding (1) untuk padding\n",
    "    max_len = max(len(r) for r in maze)\n",
    "    for row in maze:\n",
    "        if len(row) < max_len:\n",
    "            row.extend([1]*(max_len - len(row)))\n",
    "    return maze, start, goal"
   ]
  },
  {
   "cell_type": "code",
   "execution_count": 6,
   "id": "28b0006a-ca15-42a0-a304-62faf3af63b7",
   "metadata": {},
   "outputs": [],
   "source": [
    "# =============================\n",
    "# Menampilkan Labirin Secara Statik\n",
    "# ============================="
   ]
  },
  {
   "cell_type": "code",
   "execution_count": 7,
   "id": "f8da4687-89d4-404c-99d7-6ba68906f572",
   "metadata": {},
   "outputs": [],
   "source": [
    "def display_maze_static(maze, title='Labirin Asli'):\n",
    "    maze_arr = np.array(maze)\n",
    "    cmap = ListedColormap(['white','black','green','red'])\n",
    "    plt.figure(figsize=(6,6))\n",
    "    plt.imshow(maze_arr, cmap=cmap, origin='upper')\n",
    "    plt.title(title)\n",
    "    plt.xticks([]), plt.yticks([])\n",
    "    plt.show()\n",
    "\n",
    "def display_maze_with_path(maze, path, title='Labirin dengan Jalur A*'):\n",
    "    maze_arr = np.array(maze)\n",
    "    maze_path = maze_arr.copy()\n",
    "    # Tandai sel-sel pada jalur optimal dengan nilai 4 (untuk pewarnaan)\n",
    "    for (i, j) in path:\n",
    "        if maze_path[i][j] == 0:\n",
    "            maze_path[i][j] = 4\n",
    "    cmap = ListedColormap(['white','black','green','red','blue'])\n",
    "    plt.figure(figsize=(6,6))\n",
    "    plt.imshow(maze_path, cmap=cmap, origin='upper')\n",
    "    plt.title(title)\n",
    "    plt.xticks([]), plt.yticks([])\n",
    "    plt.show()"
   ]
  },
  {
   "cell_type": "code",
   "execution_count": 8,
   "id": "55d96819-8f74-4e0a-be7d-856babd122c1",
   "metadata": {},
   "outputs": [],
   "source": [
    "# =============================\n",
    "# Implementasi A* dengan Konsep Wavefront\n",
    "# ============================="
   ]
  },
  {
   "cell_type": "code",
   "execution_count": 9,
   "id": "7ee3c596-bf00-480a-8619-e5fce06f58a3",
   "metadata": {},
   "outputs": [],
   "source": [
    "def wavefront_algorithm_animation(maze, goal):\n",
    "    \"\"\"\n",
    "    Melakukan wavefront algorithm dan merekam langkah-langkah eksplorasi.\n",
    "    wavefront: matriks jarak dari goal.\n",
    "    exploration_steps: list berisi pasangan (sel, nilai) dalam urutan kunjungan.\n",
    "    \"\"\"\n",
    "    rows, cols = len(maze), len(maze[0])\n",
    "    wavefront = [[-1 if maze[i][j] != 1 else None for j in range(cols)] for i in range(rows)]\n",
    "    queue = [goal]\n",
    "    wavefront[goal[0]][goal[1]] = 0\n",
    "    exploration_steps = []\n",
    "    exploration_steps.append((goal, 0))\n",
    "    while queue:\n",
    "        x, y = queue.pop(0)\n",
    "        for dx, dy in [(0,1), (1,0), (0,-1), (-1,0)]:\n",
    "            nx, ny = x + dx, y + dy\n",
    "            if 0 <= nx < rows and 0 <= ny < cols:\n",
    "                if wavefront[nx][ny] == -1 and maze[nx][ny] != 1:\n",
    "                    wavefront[nx][ny] = wavefront[x][y] + 1\n",
    "                    queue.append((nx, ny))\n",
    "                    exploration_steps.append(((nx, ny), wavefront[nx][ny]))\n",
    "    return wavefront, exploration_steps\n",
    "\n",
    "def reconstruct_path(wavefront, start, goal):\n",
    "    \"\"\"\n",
    "    Merektruksi jalur optimal dari start ke goal berdasarkan nilai wavefront.\n",
    "    \"\"\"\n",
    "    path = []\n",
    "    current = start\n",
    "    while current != goal:\n",
    "        path.append(current)\n",
    "        x, y = current\n",
    "        # Dapatkan tetangga yang valid\n",
    "        neighbors = [(x+dx, y+dy) for dx, dy in [(0,1), (1,0), (0,-1), (-1,0)]]\n",
    "        neighbors = [n for n in neighbors if 0 <= n[0] < len(wavefront) and 0 <= n[1] < len(wavefront[0])\n",
    "                     and wavefront[n[0]][n[1]] is not None]\n",
    "        current = min(neighbors, key=lambda n: wavefront[n[0]][n[1]])\n",
    "    path.append(goal)\n",
    "    return path\n"
   ]
  },
  {
   "cell_type": "code",
   "execution_count": 10,
   "id": "2ff33007-7d39-456e-b911-ef02505c9a6d",
   "metadata": {},
   "outputs": [],
   "source": [
    "# =============================\n",
    "# Fungsi Gambar untuk pygame\n",
    "# ============================="
   ]
  },
  {
   "cell_type": "code",
   "execution_count": 11,
   "id": "f7880bbe-89b5-46b7-852f-61bacac3fe18",
   "metadata": {},
   "outputs": [],
   "source": [
    "def draw_maze_with_exploration(screen, maze, cell_size, visited, optimal_path):\n",
    "    \"\"\"\n",
    "    Menggambar labirin dengan pewarnaan:\n",
    "      - Ruang kosong: putih\n",
    "      - Dinding: hitam\n",
    "      - Start: hijau\n",
    "      - Goal: merah\n",
    "      - Sel yang telah dikunjungi (eksplorasi): oranye\n",
    "      - Jalur optimal: biru\n",
    "    \"\"\"\n",
    "    colors = {\n",
    "        0: (255,255,255),  # ruang kosong\n",
    "        1: (0,0,0),        # dinding\n",
    "        2: (0,255,0),      # start\n",
    "        3: (255,0,0)       # goal\n",
    "    }\n",
    "    rows, cols = len(maze), len(maze[0])\n",
    "    for i in range(rows):\n",
    "        for j in range(cols):\n",
    "            rect = pygame.Rect(j * cell_size, i * cell_size, cell_size, cell_size)\n",
    "            color = colors.get(maze[i][j], (255,255,255))\n",
    "            pygame.draw.rect(screen, color, rect)\n",
    "            pygame.draw.rect(screen, (200,200,200), rect, 1)\n",
    "    # Gambar sel yang telah dikunjungi (eksplorasi)\n",
    "    for i in range(rows):\n",
    "        for j in range(cols):\n",
    "            if visited[i][j]:\n",
    "                rect = pygame.Rect(j * cell_size, i * cell_size, cell_size, cell_size)\n",
    "                pygame.draw.rect(screen, (255,165,0), rect)  # oranye\n",
    "    # Gambar jalur optimal (jika fase path telah aktif)\n",
    "    for (i, j) in optimal_path:\n",
    "        if maze[i][j] == 0:\n",
    "            rect = pygame.Rect(j * cell_size, i * cell_size, cell_size, cell_size)\n",
    "            pygame.draw.rect(screen, (0,0,255), rect)  # biru\n",
    "\n",
    "def draw_robot(screen, pos, cell_size):\n",
    "    \"\"\"\n",
    "    Menggambar robot (sebagai persegi kuning) di posisi tertentu.\n",
    "    \"\"\"\n",
    "    if pos is None:\n",
    "        return\n",
    "    i, j = pos\n",
    "    rect = pygame.Rect(j * cell_size, i * cell_size, cell_size, cell_size)\n",
    "    pygame.draw.rect(screen, (255,255,0), rect)  # kuning"
   ]
  },
  {
   "cell_type": "code",
   "execution_count": 12,
   "id": "a81c9d21-9986-4509-9662-32030d621cd7",
   "metadata": {},
   "outputs": [],
   "source": [
    "# =============================\n",
    "# Simulasi Penuh dengan pygame\n",
    "# ============================="
   ]
  },
  {
   "cell_type": "code",
   "execution_count": 13,
   "id": "aa6e19c3-fe35-4bc2-a13b-7ff79785fad7",
   "metadata": {},
   "outputs": [],
   "source": [
    "def run_full_simulation(maze, exploration_steps, optimal_path, cell_size=30, exploration_delay=50, path_delay=300):\n",
    "    \"\"\"\n",
    "    Menjalankan simulasi:\n",
    "      - Fase eksplorasi: menampilkan proses robot menjelajah labirin (sel yang dikunjungi diwarnai oranye).\n",
    "      - Fase path: setelah eksplorasi selesai, robot mengikuti jalur optimal secara terbalik (kembali ke start).\n",
    "    \"\"\"\n",
    "    pygame.init()\n",
    "    rows, cols = len(maze), len(maze[0])\n",
    "    screen = pygame.display.set_mode((cols * cell_size, rows * cell_size))\n",
    "    pygame.display.set_caption(\"Simulasi Robot Menjelajah Labirin\")\n",
    "    clock = pygame.time.Clock()\n",
    "    \n",
    "    # Matriks untuk menandai sel yang telah dieksplorasi\n",
    "    visited = [[False for _ in range(cols)] for _ in range(rows)]\n",
    "    \n",
    "    step_index = 0\n",
    "    exploration_phase = True\n",
    "    path_phase = False\n",
    "    path_index = 0\n",
    "    # Untuk fase path, robot akan kembali ke start, jadi kita balik jalur optimal\n",
    "    reversed_optimal_path = list(reversed(optimal_path))\n",
    "    \n",
    "    running = True\n",
    "    while running:\n",
    "        for event in pygame.event.get():\n",
    "            if event.type == pygame.QUIT:\n",
    "                running = False\n",
    "                \n",
    "        screen.fill((255,255,255))\n",
    "        \n",
    "        if exploration_phase:\n",
    "            # Tambahkan sel yang dikunjungi berdasarkan urutan eksplorasi\n",
    "            if step_index < len(exploration_steps):\n",
    "                cell, val = exploration_steps[step_index]\n",
    "                visited[cell[0]][cell[1]] = True\n",
    "                robot_pos = cell  # posisi robot mengikuti sel yang terakhir dikunjungi\n",
    "                step_index += 1\n",
    "            else:\n",
    "                # Fase eksplorasi selesai, pindah ke fase path\n",
    "                exploration_phase = False\n",
    "                path_phase = True\n",
    "                robot_pos = reversed_optimal_path[0]\n",
    "                pygame.time.wait(500)  # jeda sebelum memulai fase path\n",
    "        elif path_phase:\n",
    "            if path_index < len(reversed_optimal_path):\n",
    "                robot_pos = reversed_optimal_path[path_index]\n",
    "                path_index += 1\n",
    "            else:\n",
    "                # Setelah robot menyelesaikan jalur optimal, tunggu sebentar dan keluar\n",
    "                robot_pos = reversed_optimal_path[-1]\n",
    "                pygame.time.wait(1000)\n",
    "                running = False\n",
    "        \n",
    "        # Gambar labirin dengan penandaan eksplorasi dan jalur optimal (jika sudah dalam fase path)\n",
    "        draw_maze_with_exploration(screen, maze, cell_size, visited, reversed_optimal_path if path_phase else [])\n",
    "        draw_robot(screen, robot_pos, cell_size)\n",
    "        pygame.display.flip()\n",
    "        \n",
    "        if exploration_phase:\n",
    "            pygame.time.wait(exploration_delay)\n",
    "        elif path_phase:\n",
    "            pygame.time.wait(path_delay)\n",
    "        \n",
    "        clock.tick(60)\n",
    "    \n",
    "    pygame.quit()"
   ]
  },
  {
   "cell_type": "code",
   "execution_count": 14,
   "id": "7dd24741-9f09-4c15-8d90-53ccbafa70cd",
   "metadata": {},
   "outputs": [],
   "source": [
    "# =============================\n",
    "# Main Program\n",
    "# ============================="
   ]
  },
  {
   "cell_type": "code",
   "execution_count": 15,
   "id": "099bbbb4-31ac-47b7-bc2e-e940bd9cde66",
   "metadata": {},
   "outputs": [
    {
     "data": {
      "image/png": "[encoded data removed]",
      "text/plain": [
       "<Figure size 600x600 with 1 Axes>"
      ]
     },
     "metadata": {},
     "output_type": "display_data"
    },
    {
     "name": "stdout",
     "output_type": "stream",
     "text": [
      "Start: (12, 11), Goal: (3, 0)\n",
      "\n",
      "Jalur ditemukan:\n",
      "[(12, 11), (11, 11), (11, 12), (11, 13), (11, 14), (10, 14), (9, 14), (9, 13), (9, 12), (9, 11), (9, 10), (9, 9), (9, 8), (10, 8), (11, 8), (11, 7), (11, 6), (10, 6), (9, 6), (9, 5), (9, 4), (9, 3), (9, 2), (9, 1), (8, 1), (7, 1), (6, 1), (5, 1), (5, 2), (5, 3), (6, 3), (7, 3), (7, 4), (7, 5), (6, 5), (5, 5), (4, 5), (3, 5), (3, 4), (3, 3), (3, 2), (3, 1), (3, 0)]\n"
     ]
    },
    {
     "data": {
      "image/png": "[encoded data removed]",
      "text/plain": [
       "<Figure size 600x600 with 1 Axes>"
      ]
     },
     "metadata": {},
     "output_type": "display_data"
    }
   ],
   "source": [
    "def main():\n",
    "    # Ganti path berikut sesuai lokasi file CSV labirin Anda secara lokal\n",
    "    csv_file = 'map 1.csv'\n",
    "    maze, start, goal = get_maze(csv_file)\n",
    "    \n",
    "    # Tampilkan labirin asli secara statik\n",
    "    display_maze_static(maze, title='Labirin dari CSV')\n",
    "    \n",
    "    print(f\"Start: {start}, Goal: {goal}\")\n",
    "    \n",
    "    # Lakukan wavefront algorithm dengan pencatatan langkah eksplorasi\n",
    "    wavefront, exploration_steps = wavefront_algorithm_animation(maze, goal)\n",
    "    optimal_path = reconstruct_path(wavefront, start, goal)\n",
    "    \n",
    "    print(\"\\nJalur ditemukan:\")\n",
    "    print(optimal_path)\n",
    "    \n",
    "    # Tampilkan peta labirin dengan jalur optimal secara statik\n",
    "    display_maze_with_path(maze, optimal_path, title='Peta Labirin dengan Jalur A*')\n",
    "    \n",
    "    # Jalankan simulasi penuh:\n",
    "    # Fase eksplorasi (robot menjelajah labirin) kemudian robot mengikuti jalur optimal kembali ke start\n",
    "    run_full_simulation(maze, exploration_steps, optimal_path, cell_size=30, exploration_delay=50, path_delay=300)\n",
    "\n",
    "if __name__ == '__main__':\n",
    "    main()"
   ]
  },
  {
   "cell_type": "code",
   "execution_count": null,
   "id": "3db067c8-3c58-413e-890b-2d6f9576be8f",
   "metadata": {},
   "outputs": [],
   "source": []
  }
 ],
 "metadata": {
  "kernelspec": {
   "display_name": "Python [conda env:base] *",
   "language": "python",
   "name": "conda-base-py"
  },
  "language_info": {
   "codemirror_mode": {
    "name": "ipython",
    "version": 3
   },
   "file_extension": ".py",
   "mimetype": "text/x-python",
   "name": "python",
   "nbconvert_exporter": "python",
   "pygments_lexer": "ipython3",
   "version": "3.12.7"
  }
 },
 "nbformat": 4,
 "nbformat_minor": 5
}
